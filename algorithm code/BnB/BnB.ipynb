{
 "cells": [
  {
   "cell_type": "code",
   "execution_count": 1,
   "metadata": {},
   "outputs": [],
   "source": [
    "import gurobipy as gp\n",
    "from gurobipy import *"
   ]
  },
  {
   "cell_type": "code",
   "execution_count": 2,
   "metadata": {},
   "outputs": [],
   "source": [
    "#For the maximum\n",
    "class Solution:\n",
    "    def __init__(self):\n",
    "        self.lb = -1*float('inf')\n",
    "        self.node = 1\n",
    "        self.xrec = []\n",
    "    def BnB(self, model):\n",
    "        model.optimize() \n",
    "        print('current node number:', str(self.node))\n",
    "        if model.status == 3 or model.status == 5:\n",
    "            print('lower bound:', str(self.lb))\n",
    "            print('prune by infeasible')\n",
    "            return\n",
    "        \n",
    "        ub = int(model.objVal)\n",
    "        if ub <= self.lb:\n",
    "            print('lower bound:', str(self.lb))\n",
    "            print('local upper bound:', str(ub))\n",
    "            print('prune by bound')\n",
    "            return\n",
    "        \n",
    "        flag = 0\n",
    "        i = 0\n",
    "        non_i = 0 # index where val is not int\n",
    "        for var in model.getVars():\n",
    "            v = var.x\n",
    "            if v - int(v) != 0:\n",
    "                flag = 1\n",
    "                non_i = i\n",
    "            i += 1\n",
    "        if flag == 0:\n",
    "            tmp_solution = model.objVal\n",
    "            if tmp_solution > self.lb:\n",
    "                self.lb = tmp_solution\n",
    "                self.xrec.clear()\n",
    "                for v in model.getVars():\n",
    "                    if v.x != 0:\n",
    "                        self.xrec.append([v, v.x])\n",
    "            print('lower bound:', str(self.lb))\n",
    "            print('local solution:', str(tmp_solution))\n",
    "            print('Global optimal:', str(self.lb))\n",
    "            print('prune by optimal')\n",
    "            return\n",
    "        else:\n",
    "            model.addConstr(model.getVars()[non_i] == 1)\n",
    "            model.update()\n",
    "            l = model.getConstrs()[-1]\n",
    "            self.node += 1\n",
    "            self.BnB(model)\n",
    "            model.remove(l)\n",
    "            model.addConstr(model.getVars()[non_i] == 0)\n",
    "            model.update()\n",
    "            r = model.getConstrs()[-1]\n",
    "            self.node += 1\n",
    "            self.BnB(model)\n",
    "            model.remove(r)\n",
    "            return\n",
    "    \n",
    "        \n",
    "        \n",
    "    "
   ]
  },
  {
   "cell_type": "code",
   "execution_count": 3,
   "metadata": {},
   "outputs": [],
   "source": [
    "fname = input('Please input flie name correctly:')\n",
    "m = gp.read(fname)\n",
    "S = Solution()\n",
    "S.BnB(m)\n",
    "print('The optimal is', str(S.lb))\n",
    "print('The X* are:')\n",
    "print(S.xrec)\n"
   ]
  },
  {
   "cell_type": "code",
   "execution_count": null,
   "metadata": {},
   "outputs": [],
   "source": []
  }
 ],
 "metadata": {
  "kernelspec": {
   "display_name": "Python 3",
   "language": "python",
   "name": "python3"
  },
  "language_info": {
   "codemirror_mode": {
    "name": "ipython",
    "version": 3
   },
   "file_extension": ".py",
   "mimetype": "text/x-python",
   "name": "python",
   "nbconvert_exporter": "python",
   "pygments_lexer": "ipython3",
   "version": "3.9.7"
  },
  "vscode": {
   "interpreter": {
    "hash": "aee8b7b246df8f9039afb4144a1f6fd8d2ca17a180786b69acc140d282b71a49"
   }
  }
 },
 "nbformat": 4,
 "nbformat_minor": 2
}
