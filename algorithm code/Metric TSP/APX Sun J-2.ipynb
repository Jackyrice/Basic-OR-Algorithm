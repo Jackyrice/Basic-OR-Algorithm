{
 "cells": [
  {
   "cell_type": "code",
   "execution_count": 1,
   "id": "c35ca244",
   "metadata": {},
   "outputs": [],
   "source": [
    "import numpy as np\n"
   ]
  },
  {
   "cell_type": "code",
   "execution_count": 2,
   "id": "2cb7979f",
   "metadata": {},
   "outputs": [
    {
     "name": "stdout",
     "output_type": "stream",
     "text": [
      "[(0, 9, 9.433981132056603), (4, 7, 15.297058540778355), (7, 9, 18.35755975068582), (0, 7, 20.248456731316587), (1, 2, 22.47220505424423), (3, 8, 28.178005607210743), (4, 8, 30.463092423455635), (4, 9, 30.610455730027933), (5, 6, 32.55764119219941), (0, 4, 34.92849839314596), (1, 6, 37.656340767525464), (2, 9, 39.84971769034255), (3, 4, 43.01162633521314), (0, 2, 43.18564576337837), (7, 8, 45.5411901469428), (1, 9, 50.48762224545735), (3, 6, 53.31041174104736), (3, 5, 56.089214649520635), (2, 6, 56.22277118748239), (3, 7, 56.88585061331157), (0, 1, 57.0087712549569), (2, 7, 57.9396237474839), (8, 9, 60.53924347066124), (6, 9, 61.5223536610881), (4, 6, 65.14598989960932), (3, 9, 65.27633568147036), (0, 8, 65.39113089708727), (1, 7, 66.03029607687671), (2, 4, 67.4166151627327), (6, 7, 68.60029154456998), (1, 5, 69.00724599634447), (0, 6, 70.76722405181653), (1, 4, 71.06335201775948), (0, 3, 73.00684899377592), (6, 8, 74.43117626371358), (1, 3, 80.62257748298549), (5, 8, 83.5224520712844), (4, 5, 85.60373823613078), (2, 3, 88.68483523128404), (2, 5, 88.68483523128404), (5, 9, 90.4267659490264), (1, 8, 92.66067126888301), (5, 7, 93.34880824091971), (2, 8, 94.11163583744573), (0, 5, 99.85990186255943)]\n"
     ]
    }
   ],
   "source": [
    "try:\n",
    "    adj = np.loadtxt(\"metricmat.txt\",delimiter=',')\n",
    "    v = len(adj)\n",
    "except UserWarning:\n",
    "    print( \"There is no entry\")\n",
    "except TypeError:\n",
    "    print(\"There is only one entry in flie\")\n",
    "else:\n",
    "    graph = []\n",
    "    for i in range(0,v-1):\n",
    "        for j in range(i+1, v):\n",
    "            if adj[i][j] > 0:\n",
    "                graph.append((i, j, adj[i][j]))\n",
    "\n",
    "                graph.sort(key=lambda var:var[2]) \n",
    "print(graph)"
   ]
  },
  {
   "cell_type": "code",
   "execution_count": 3,
   "id": "59ab71a2",
   "metadata": {},
   "outputs": [],
   "source": [
    "root = [i for i in range(v)]\n",
    "mst = []\n",
    "e = 0\n",
    "while(e < v - 1):\n",
    "    if(root[graph[0][0]] != root[graph[0][1]]):\n",
    "        mst.append((graph[0][0], graph[0][1]))\n",
    "        e = e+1\n",
    "        y = root[graph[0][1]]\n",
    "        x = root[graph[0][0]]\n",
    "        for i in range(v):\n",
    "            if root[i] == y:\n",
    "                root[i] = x\n",
    "        \n",
    "    graph.pop(0)\n"
   ]
  },
  {
   "cell_type": "code",
   "execution_count": 4,
   "id": "917e0efa",
   "metadata": {},
   "outputs": [],
   "source": [
    "# represent the graph of MST as matrix form \n",
    "a = np.zeros([len(adj),len(adj)]) \n",
    "for e in mst:\n",
    "    a[e[0]][e[1]] = 1\n",
    "    a[e[1]][e[0]] = 1\n"
   ]
  },
  {
   "cell_type": "code",
   "execution_count": 5,
   "id": "cbf30ae0",
   "metadata": {},
   "outputs": [],
   "source": [
    "tree = []\n",
    "for i in range(v):\n",
    "    tmp = []\n",
    "    for j in range(v):\n",
    "        if a[i][j] == 1:\n",
    "            tmp.append(j)\n",
    "    tree.append(tmp)   "
   ]
  },
  {
   "cell_type": "code",
   "execution_count": 6,
   "id": "a5f60304",
   "metadata": {},
   "outputs": [],
   "source": [
    "#DFS function\n",
    "def traversal(root, tree, visited):\n",
    "    if root not in visited:\n",
    "        visited.append(root)\n",
    "        child = tree[root]\n",
    "    for new_root in child:\n",
    "        if(new_root not in visited):\n",
    "            traversal(new_root, tree, visited)\n",
    "        \n"
   ]
  },
  {
   "cell_type": "code",
   "execution_count": 7,
   "id": "4452f83d",
   "metadata": {},
   "outputs": [],
   "source": [
    "try:\n",
    "    root = int(input(\"Enter root:\"))# value should be set in range\n",
    "except ValueError:\n",
    "    print( \"Please input initial root\")\n",
    "\n",
    "else:\n",
    "    if root not in range(v):\n",
    "        print(\"root value should be in 0 to\", v)\n",
    "    visited = []\n",
    "    traversal(root, tree, visited) "
   ]
  },
  {
   "cell_type": "code",
   "execution_count": 8,
   "id": "0ccb471d",
   "metadata": {},
   "outputs": [
    {
     "name": "stdout",
     "output_type": "stream",
     "text": [
      "Hamiltonian cycle:\n",
      "3->8->4->7->9->0->2->1->6->5->3\n"
     ]
    }
   ],
   "source": [
    "print(\"Hamiltonian cycle:\")\n",
    "for item in visited:\n",
    "    print(item,end=\"->\")\n",
    "print(root)"
   ]
  },
  {
   "cell_type": "code",
   "execution_count": null,
   "id": "9ec84134",
   "metadata": {},
   "outputs": [],
   "source": []
  },
  {
   "cell_type": "code",
   "execution_count": null,
   "id": "5887d88f",
   "metadata": {},
   "outputs": [],
   "source": []
  }
 ],
 "metadata": {
  "kernelspec": {
   "display_name": "Python 3.8.8 ('base')",
   "language": "python",
   "name": "python3"
  },
  "language_info": {
   "codemirror_mode": {
    "name": "ipython",
    "version": 3
   },
   "file_extension": ".py",
   "mimetype": "text/x-python",
   "name": "python",
   "nbconvert_exporter": "python",
   "pygments_lexer": "ipython3",
   "version": "3.8.8"
  },
  "vscode": {
   "interpreter": {
    "hash": "1d010d581d7a5465429bbdba173966b3b36e0940702d2f9722190fd7bcbf7b8a"
   }
  }
 },
 "nbformat": 4,
 "nbformat_minor": 5
}
