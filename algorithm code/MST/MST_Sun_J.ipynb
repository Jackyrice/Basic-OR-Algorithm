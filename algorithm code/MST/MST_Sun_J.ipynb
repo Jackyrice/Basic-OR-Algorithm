{
 "cells": [
  {
   "cell_type": "code",
   "execution_count": 1,
   "id": "8fbcd128",
   "metadata": {},
   "outputs": [],
   "source": [
    "import numpy as np\n"
   ]
  },
  {
   "cell_type": "code",
   "execution_count": 2,
   "id": "bf7b34a7",
   "metadata": {},
   "outputs": [],
   "source": [
    "class Graph:\n",
    " \n",
    "    def __init__(self, vertices):\n",
    "        self.V = vertices \n",
    "        self.graph = []  \n",
    "      \n",
    "    def addEdge(self, u, v, w):\n",
    "        self.graph.append([u, v, w])\n",
    " \n",
    "    def find(self, parent, i):\n",
    "        if parent[i] == i:\n",
    "            return i\n",
    "        return self.find(parent, parent[i])\n",
    " \n",
    "    def union(self, parent, rank,a, b):\n",
    "        aroot = self.find(parent, a)\n",
    "        broot = self.find(parent, b)\n",
    " \n",
    "        # Attach smaller rank tree under root of\n",
    "        # high rank tree (Union by Rank)\n",
    "        if rank[aroot] < rank[broot]:\n",
    "            parent[aroot] = broot\n",
    "        elif rank[aroot] > rank[broot]:\n",
    "            parent[broot] = aroot\n",
    " \n",
    "        # If ranks are same, then make one as root\n",
    "        # and increment its rank by one\n",
    "        else:\n",
    "            parent[broot] = aroot\n",
    "            rank[aroot] += 1\n",
    "            \n",
    "    def MST(self):\n",
    "        result = []\n",
    "        parent = []\n",
    "        rank = []\n",
    "        i = 0         \n",
    "        e = 0\n",
    " \n",
    "        self.graph = sorted(self.graph,\n",
    "                            key=lambda item: item[2])\n",
    " \n",
    " \n",
    "        for node in range(self.V):\n",
    "            parent.append(node)\n",
    "            rank.append(0)\n",
    " \n",
    "        while e < self.V - 1:\n",
    " \n",
    "            u, v, w = self.graph[i]\n",
    "            i = i + 1\n",
    "            a = self.find(parent, u)\n",
    "            b = self.find(parent, v)\n",
    "           \n",
    "            if a != b:\n",
    "                e = e + 1\n",
    "                result.append([u, v, w])\n",
    "                self.union(parent, rank, a, b)\n",
    " \n",
    "        cost = 0\n",
    "        print (\"Edges in the MST\")\n",
    "        for u, v, weight in result:\n",
    "            cost += weight\n",
    "            print(\"%d -- %d\" % (u, v))\n",
    "        print(\"Cost of Minimum Spanning Tree\" , cost)"
   ]
  },
  {
   "cell_type": "code",
   "execution_count": 3,
   "id": "88a6bbda",
   "metadata": {},
   "outputs": [
    {
     "name": "stdout",
     "output_type": "stream",
     "text": [
      "Edges in the MST\n",
      "2 -- 3\n",
      "2 -- 4\n",
      "0 -- 2\n",
      "1 -- 2\n",
      "Cost of Minimum Spanning Tree 78.0\n"
     ]
    }
   ],
   "source": [
    "try:\n",
    "    adj = np.loadtxt(\"graph.txt\",delimiter=',')\n",
    "    v = len(adj)\n",
    "except UserWarning:\n",
    "    print( \"There is no entry\")\n",
    "except TypeError:\n",
    "    print(\"There is only one entry in flie\")\n",
    "else:\n",
    "    g = Graph(v)\n",
    "    for i in range(0,v-1):\n",
    "        for j in range(i+1, v):\n",
    "            g.addEdge(i, j, adj[i][j])\n",
    "g.MST()\n",
    "    \n"
   ]
  },
  {
   "cell_type": "code",
   "execution_count": null,
   "id": "a02dcb19",
   "metadata": {},
   "outputs": [],
   "source": []
  },
  {
   "cell_type": "code",
   "execution_count": null,
   "id": "842bad00",
   "metadata": {},
   "outputs": [],
   "source": []
  }
 ],
 "metadata": {
  "kernelspec": {
   "display_name": "Python 3.9.7 64-bit",
   "language": "python",
   "name": "python3"
  },
  "language_info": {
   "codemirror_mode": {
    "name": "ipython",
    "version": 3
   },
   "file_extension": ".py",
   "mimetype": "text/x-python",
   "name": "python",
   "nbconvert_exporter": "python",
   "pygments_lexer": "ipython3",
   "version": "3.9.7"
  },
  "vscode": {
   "interpreter": {
    "hash": "aee8b7b246df8f9039afb4144a1f6fd8d2ca17a180786b69acc140d282b71a49"
   }
  }
 },
 "nbformat": 4,
 "nbformat_minor": 5
}
