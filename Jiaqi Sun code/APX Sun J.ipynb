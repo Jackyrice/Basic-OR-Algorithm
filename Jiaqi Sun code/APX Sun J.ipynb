{
 "cells": [
  {
   "cell_type": "code",
   "execution_count": 29,
   "id": "662c2f98",
   "metadata": {},
   "outputs": [],
   "source": [
    "import numpy as np\n",
    "from collections import defaultdict\n"
   ]
  },
  {
   "cell_type": "code",
   "execution_count": 30,
   "id": "44091182",
   "metadata": {},
   "outputs": [],
   "source": [
    "class Graph:\n",
    " \n",
    "    def __init__(self, vertices):\n",
    "        self.V = vertices \n",
    "        self.graph = []  \n",
    "      \n",
    "    def addEdge(self, u, v, w):\n",
    "        self.graph.append([u, v, w])\n",
    " \n",
    "    def find(self, parent, i):\n",
    "        if parent[i] == i:\n",
    "            return i\n",
    "        return self.find(parent, parent[i])\n",
    " \n",
    "    def union(self, parent, rank,a, b):\n",
    "        aroot = self.find(parent, a)\n",
    "        broot = self.find(parent, b)\n",
    " \n",
    "        # Attach smaller rank tree under root of\n",
    "        # high rank tree (Union by Rank)\n",
    "        if rank[aroot] < rank[broot]:\n",
    "            parent[aroot] = broot\n",
    "        elif rank[aroot] > rank[broot]:\n",
    "            parent[broot] = aroot\n",
    " \n",
    "        # If ranks are same, then make one as root\n",
    "        # and increment its rank by one\n",
    "        else:\n",
    "            parent[broot] = aroot\n",
    "            rank[aroot] += 1\n",
    "            \n",
    "    def MST(self):\n",
    "        result = []\n",
    "        parent = []\n",
    "        rank = []\n",
    "        i = 0         \n",
    "        e = 0\n",
    " \n",
    "        self.graph = sorted(self.graph,\n",
    "                            key=lambda item: item[2])\n",
    " \n",
    " \n",
    "        for node in range(self.V):\n",
    "            parent.append(node)\n",
    "            rank.append(0)\n",
    " \n",
    "        while e < self.V - 1:\n",
    " \n",
    "            u, v, w = self.graph[i]\n",
    "            i = i + 1\n",
    "            a = self.find(parent, u)\n",
    "            b = self.find(parent, v)\n",
    "           \n",
    "            if a != b:\n",
    "                e = e + 1\n",
    "                result.append([u, v, w])\n",
    "                self.union(parent, rank, a, b)\n",
    " \n",
    "        cost = 0\n",
    "        T = []\n",
    "        print (\"Edges in the MST\")\n",
    "        for u, v, weight in result:\n",
    "            cost += weight\n",
    "            T.append([u,v])\n",
    "            print(\"%d -- %d\" % (u, v))\n",
    "        return T"
   ]
  },
  {
   "cell_type": "code",
   "execution_count": 31,
   "id": "be4e19b4",
   "metadata": {},
   "outputs": [
    {
     "name": "stdout",
     "output_type": "stream",
     "text": [
      "Edges in the MST\n",
      "0 -- 9\n",
      "4 -- 7\n",
      "7 -- 9\n",
      "1 -- 2\n",
      "3 -- 8\n",
      "4 -- 8\n",
      "5 -- 6\n",
      "1 -- 6\n",
      "2 -- 9\n"
     ]
    }
   ],
   "source": [
    "try:\n",
    "    adj = np.loadtxt(\"metricmat.txt\",delimiter=',')\n",
    "    v = len(adj)\n",
    "except UserWarning:\n",
    "    print( \"There is no entry\")\n",
    "except TypeError:\n",
    "    print(\"There is only one entry in flie\")\n",
    "else:\n",
    "    g = Graph(v)\n",
    "    for i in range(0,v-1):\n",
    "        for j in range(i+1, v):\n",
    "            g.addEdge(i, j, adj[i][j])\n",
    "mst = g.MST()\n"
   ]
  },
  {
   "cell_type": "code",
   "execution_count": 32,
   "id": "b230442b",
   "metadata": {},
   "outputs": [
    {
     "name": "stdout",
     "output_type": "stream",
     "text": [
      "[[0, 9], [4, 7], [7, 9], [1, 2], [3, 8], [4, 8], [5, 6], [1, 6], [2, 9]]\n"
     ]
    }
   ],
   "source": [
    "print(mst)"
   ]
  },
  {
   "cell_type": "code",
   "execution_count": 33,
   "id": "7f418138",
   "metadata": {},
   "outputs": [],
   "source": [
    "class mstG:\n",
    "    #construct the graph of MST and DFS\n",
    "    def __init__(self):\n",
    "        self.mgraph = defaultdict(list)\n",
    " \n",
    "    def addEdge(self, u, v):\n",
    "        self.mgraph[u].append(v)\n",
    " \n",
    "    def Solver(self, v, visited):\n",
    "        #record visited vertice and avoid repeating\n",
    "        visited.add(v)\n",
    "        print(v,end=\"->\")\n",
    "        for neighbour in self.mgraph[v]:\n",
    "            if neighbour not in visited:\n",
    "                self.Solver(neighbour, visited)\n",
    " \n",
    "    def DFS(self):\n",
    "        visited = set()\n",
    "        for v in self.mgraph:\n",
    "            if v not in visited:\n",
    "                self.Solver(v, visited)\n",
    "                print(v)\n",
    "\n",
    " "
   ]
  },
  {
   "cell_type": "code",
   "execution_count": 34,
   "id": "a3c54bca",
   "metadata": {},
   "outputs": [],
   "source": [
    "# represent the graph of MST as matrix form \n",
    "a = np.zeros([len(adj),len(adj)]) \n",
    "for u, v in mst:\n",
    "    a[u][v] = 1\n",
    "    a[v][u] = 1\n"
   ]
  },
  {
   "cell_type": "code",
   "execution_count": 35,
   "id": "26f4882c",
   "metadata": {},
   "outputs": [
    {
     "name": "stdout",
     "output_type": "stream",
     "text": [
      "Hamiltonian cycle:\n",
      "0->9->2->1->6->5->7->4->8->3->0\n"
     ]
    }
   ],
   "source": [
    "m = mstG()\n",
    "for i in range(0,len(a)):\n",
    "    for j in range(0, len(a)):\n",
    "        if(a[i][j] == 1):\n",
    "            m.addEdge(i, j)\n",
    "print(\"Hamiltonian cycle:\")\n",
    "m.DFS()"
   ]
  },
  {
   "cell_type": "code",
   "execution_count": null,
   "id": "3439ca05",
   "metadata": {},
   "outputs": [],
   "source": []
  },
  {
   "cell_type": "code",
   "execution_count": null,
   "id": "a3c7c06a",
   "metadata": {},
   "outputs": [],
   "source": []
  },
  {
   "cell_type": "code",
   "execution_count": null,
   "id": "4677ba20",
   "metadata": {},
   "outputs": [],
   "source": []
  },
  {
   "cell_type": "code",
   "execution_count": null,
   "id": "7a7f8660",
   "metadata": {},
   "outputs": [],
   "source": []
  },
  {
   "cell_type": "code",
   "execution_count": null,
   "id": "2a5a7582",
   "metadata": {},
   "outputs": [],
   "source": []
  }
 ],
 "metadata": {
  "kernelspec": {
   "display_name": "Python 3.8.8 64-bit ('base': conda)",
   "language": "python",
   "name": "python388jvsc74a57bd01d010d581d7a5465429bbdba173966b3b36e0940702d2f9722190fd7bcbf7b8a"
  },
  "language_info": {
   "codemirror_mode": {
    "name": "ipython",
    "version": 3
   },
   "file_extension": ".py",
   "mimetype": "text/x-python",
   "name": "python",
   "nbconvert_exporter": "python",
   "pygments_lexer": "ipython3",
   "version": "3.8.8"
  }
 },
 "nbformat": 4,
 "nbformat_minor": 5
}
