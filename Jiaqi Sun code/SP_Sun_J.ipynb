{
 "cells": [
  {
   "cell_type": "code",
   "execution_count": 2,
   "id": "0ff0d10c",
   "metadata": {},
   "outputs": [],
   "source": [
    "import numpy as np\n"
   ]
  },
  {
   "cell_type": "code",
   "execution_count": 3,
   "id": "4e8dc33a",
   "metadata": {},
   "outputs": [],
   "source": [
    "class Graph():\n",
    "    def __init__(self, vertices):\n",
    "        self.V = vertices\n",
    "        self.graph = [[0 for column in range(vertices)]\n",
    "                      for row in range(vertices)]\n",
    "        \n",
    "    \n",
    "    def printSolution(self, dist, par):\n",
    "        print(\"Vertex \\t Distance from Source \\t Parent\")\n",
    "        for node in range(self.V):\n",
    "            print(node , \"\\t\\t\", dist[node], \"\\t\\t\", par[node])\n",
    "    \n",
    "    def pickMinVertic(self, dist):\n",
    "        min = np.inf\n",
    "        for u in self.L:\n",
    "            if dist[u] < min:\n",
    "                min = dist[u]\n",
    "                min_index = u\n",
    "        return min_index\n",
    "    \n",
    "    def dijkstra(self, src):\n",
    "            dist = [np.inf] * self.V\n",
    "            dist[src] = 0\n",
    "            par = [False] * self.V\n",
    "            self.L = [src]\n",
    "            print(self.graph)\n",
    "            while(len(self.L) != 0):\n",
    "                u = self.pickMinVertic(dist)\n",
    "                for v in range(self.V):\n",
    "                    if(self.graph[u][v]!=0):\n",
    "                        self.L.append(v)\n",
    "                self.L.remove(u)\n",
    "                for v in self.L:\n",
    "                    if(self.graph[u][v] != 0 and dist[v] > dist[u] + self.graph[u][v]):\n",
    "                        dist[v] = dist[u] + self.graph[u][v]\n",
    "                        par[v] = u\n",
    "            self.printSolution(dist, par)\n"
   ]
  },
  {
   "cell_type": "code",
   "execution_count": 4,
   "id": "ad8cf765",
   "metadata": {},
   "outputs": [
    {
     "name": "stdout",
     "output_type": "stream",
     "text": [
      "Enter the start vertex(# start from 0):2\n",
      "[[0. 2. 4. 0. 0. 0.]\n",
      " [0. 0. 1. 2. 2. 0.]\n",
      " [0. 0. 0. 0. 3. 0.]\n",
      " [0. 0. 0. 0. 0. 3.]\n",
      " [0. 0. 0. 3. 0. 2.]\n",
      " [0. 0. 0. 0. 0. 0.]]\n",
      "Vertex \t Distance from Source \t Parent\n",
      "0 \t\t inf \t\t False\n",
      "1 \t\t inf \t\t False\n",
      "2 \t\t 0 \t\t False\n",
      "3 \t\t 6.0 \t\t 4\n",
      "4 \t\t 3.0 \t\t 2\n",
      "5 \t\t 5.0 \t\t 4\n"
     ]
    }
   ],
   "source": [
    "adj = np.loadtxt(\"graph_directed.txt\",delimiter=',')\n",
    "g = Graph(len(adj))\n",
    "g.graph = adj\n",
    "src = int(input(\"Enter the start vertex(# start from 0):\"))\n",
    "g.dijkstra(src)"
   ]
  },
  {
   "cell_type": "code",
   "execution_count": null,
   "id": "e01416b4",
   "metadata": {},
   "outputs": [],
   "source": []
  },
  {
   "cell_type": "code",
   "execution_count": null,
   "id": "d18a70e6",
   "metadata": {},
   "outputs": [],
   "source": []
  },
  {
   "cell_type": "code",
   "execution_count": null,
   "id": "0ff25e77",
   "metadata": {},
   "outputs": [],
   "source": []
  }
 ],
 "metadata": {
  "kernelspec": {
   "display_name": "Python 3.8.8 64-bit ('base': conda)",
   "language": "python",
   "name": "python388jvsc74a57bd01d010d581d7a5465429bbdba173966b3b36e0940702d2f9722190fd7bcbf7b8a"
  },
  "language_info": {
   "codemirror_mode": {
    "name": "ipython",
    "version": 3
   },
   "file_extension": ".py",
   "mimetype": "text/x-python",
   "name": "python",
   "nbconvert_exporter": "python",
   "pygments_lexer": "ipython3",
   "version": "3.8.8"
  }
 },
 "nbformat": 4,
 "nbformat_minor": 5
}
