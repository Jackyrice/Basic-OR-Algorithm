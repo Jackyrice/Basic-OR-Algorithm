{
 "cells": [
  {
   "cell_type": "code",
   "execution_count": 1,
   "id": "9ba7238c",
   "metadata": {},
   "outputs": [],
   "source": [
    "import numpy as np\n",
    "import time"
   ]
  },
  {
   "cell_type": "code",
   "execution_count": 2,
   "id": "5578376e",
   "metadata": {},
   "outputs": [],
   "source": [
    "# This function is to find the adjacent vertices of vertex in graph R. E is adjacency matrix\n",
    "def adjV(p, R, E):\n",
    "    tp = []\n",
    "    for e in R:\n",
    "        if E[p - 1][e - 1] == 1: # if vertex e has edge with p\n",
    "            tp.append(e)\n",
    "    return tp"
   ]
  },
  {
   "cell_type": "code",
   "execution_count": 3,
   "id": "e5d09575",
   "metadata": {},
   "outputs": [],
   "source": [
    "#This function is to count the degree of a vertex\n",
    "def degV(p, R, E):\n",
    "    d = 0\n",
    "    for e in R:\n",
    "        if E[p - 1][e - 1] == 1:\n",
    "            d = d + 1\n",
    "    return d\n",
    "    "
   ]
  },
  {
   "cell_type": "code",
   "execution_count": 4,
   "id": "78b1895c",
   "metadata": {},
   "outputs": [],
   "source": [
    "#Find the vertices with the minimum degree in graph R\n",
    "def mindeg(R, E):\n",
    "    Rmin = []\n",
    "    mindeg = np.inf\n",
    "    for v in R:         #find min degree\n",
    "        tmp = degV(v, R, E)\n",
    "        if tmp < mindeg:\n",
    "            mindeg = tmp\n",
    "    for v in R:         # find vertice whose degree is min\n",
    "        if degV(v, R, E) ==mindeg:\n",
    "            Rmin.append(v)\n",
    "    return Rmin\n"
   ]
  },
  {
   "cell_type": "code",
   "execution_count": 5,
   "id": "7a391847",
   "metadata": {},
   "outputs": [],
   "source": [
    "#Calculate the exdegree of certain vertex\n",
    "def exdegV(p, R, E):\n",
    "    mindeg = np.inf\n",
    "    Tp = adjV(p, R, E)# find adjacent vertices\n",
    "    sumdeg = 0\n",
    "    for v in Tp:    #use degV function to help calculate the exdegree\n",
    "        sumdeg = sumdeg + degV(v, R, E)\n",
    "    return sumdeg    "
   ]
  },
  {
   "cell_type": "code",
   "execution_count": 6,
   "id": "52c49b96",
   "metadata": {},
   "outputs": [],
   "source": [
    "#Find the vertex whoes degree is minimum\n",
    "def minexdeg(R, E):\n",
    "    exdegs = []\n",
    "    for v in R:\n",
    "        exdegs.append(exdegV(v, R, E))\n",
    "    i = exdegs.index(min(exdegs))\n",
    "    return R[i]"
   ]
  },
  {
   "cell_type": "code",
   "execution_count": 7,
   "id": "c6d8f95a",
   "metadata": {},
   "outputs": [],
   "source": [
    "# To store the max clique during the recursion of expand function\n",
    "class Qm:\n",
    "    def __init__(self, q):\n",
    "        self.q = q       \n",
    "    def visit(self):\n",
    "        return self.q\n",
    "    def length(self):\n",
    "        return len(self.q)\n",
    "    def modify(self, new):\n",
    "        self.q = new\n",
    "       "
   ]
  },
  {
   "cell_type": "code",
   "execution_count": 8,
   "id": "482c8bb9",
   "metadata": {},
   "outputs": [],
   "source": [
    "def expand(R, No, No_ini, Q, q, E): #R is graph, No is number of each vertex, No_ini is the initial number, Q is clique,q is max clique\n",
    "    while len(R) != 0:#while not empty\n",
    "        p = R[-1]  #rightmost vertex\n",
    "        if len(Q) + No[p] > q.length() :\n",
    "            Q.append(p)\n",
    "\n",
    "            Rp = adjV(p, R, E)\n",
    "            if len(Rp) != 0:\n",
    "\n",
    "                NUMSORT(Rp, No_ini, E)\n",
    "                \n",
    "                expand(Rp, No_ini, No_ini, Q, q, E)\n",
    "            else:\n",
    "                if(len(Q) > q.length()):\n",
    "                    tmp = [h for h in Q]\n",
    "                    q.modify(tmp)\n",
    "            Q.pop(-1)\n",
    "        else:\n",
    "            return\n",
    "        R.pop(-1)\n",
    "    \n"
   ]
  },
  {
   "cell_type": "code",
   "execution_count": 9,
   "id": "4f53345e",
   "metadata": {},
   "outputs": [],
   "source": [
    "def NUMSORT(R, No, E):\n",
    "    #NUMBER\n",
    "    maxno = 0\n",
    "    r = [v for v in R]\n",
    "    C = []\n",
    "    C.append(False)\n",
    "    C.append([])\n",
    "    while(len(R)!=0):\n",
    "        p = R[0]\n",
    "        Tp = adjV(p, r, E)\n",
    "        k = 1\n",
    "        while len([v for v in C[k] if v in Tp]) != 0:\n",
    "            k = k + 1\n",
    "        if k > maxno:\n",
    "            maxno = k\n",
    "            C.append([])\n",
    "        No[p] = k\n",
    "        C[k].append(p)\n",
    "        R.pop(0)\n",
    "        \n",
    "    #SORT\n",
    "    for k in range(1, maxno + 1):\n",
    "        for j in range(len(C[k])):\n",
    "            R.append(C[k][j])\n"
   ]
  },
  {
   "cell_type": "code",
   "execution_count": 10,
   "id": "e98e90f6",
   "metadata": {},
   "outputs": [],
   "source": [
    "def MCR(Vertex, E):\n",
    "    #Global\n",
    "    Q = []\n",
    "    Qmax = []\n",
    "    \n",
    "    #Sort\n",
    "    i = len(Vertex)\n",
    "    R = [v for v in Vertex]\n",
    "    V = []\n",
    "    while(len(V)!= i):\n",
    "        V.append(0)\n",
    "    \n",
    "    \n",
    "    deg = [degV(v, R, E) for v in R]#degree list of each vertex\n",
    "    Rmin = mindeg(R, E)\n",
    "        \n",
    "    while(len(Rmin) != len(R)):\n",
    "        if(len(Rmin) >= 2):\n",
    "            p = minexdeg(Rmin, E)\n",
    "            \n",
    "        else:\n",
    "            p = Rmin[0]\n",
    "        V[i - 1] = p\n",
    "        R.remove(p)\n",
    "        i = i - 1\n",
    "        for j in range(len(R)):\n",
    "            if E[p - 1][R[j] - 1] == 1:\n",
    "                deg[R[j] - 1] = deg[R[j] - 1] - 1\n",
    "        \n",
    "        Rmin = mindeg(R, E)\n",
    "    \n",
    "    #Regular subgraph\n",
    "    No = []\n",
    "    for i in range(len(E) + 1):\n",
    "        No.append(0)\n",
    "    NUMSORT(Rmin, No, E)\n",
    "    for i in range(len(Rmin)):\n",
    "        V[i] = Rmin[i]\n",
    "    \n",
    "    #Number\n",
    "    tmp = 0\n",
    "    for r in Rmin:\n",
    "        if No[r] > tmp:\n",
    "            tmp = No[r]\n",
    "    m = tmp\n",
    "    AG = max(deg)\n",
    "    mmax = len(Rmin) + AG - m\n",
    "    m = m + 1\n",
    "    i = len(Rmin) + 1\n",
    "    while(i <= mmax):\n",
    "        if(i > len(V)):\n",
    "            break\n",
    "        No[V[i - 1]] = m\n",
    "        m = m + 1\n",
    "        i = i + 1\n",
    "    if(i < len(V)):\n",
    "        for i in range(mmax, len(V)):\n",
    "            No[V[i]] = AG + 1\n",
    "#Start\n",
    "    judge = True\n",
    "    for q in Rmin:\n",
    "            if degV(q,R, E) != len(Rmin) - 1:\n",
    "                judge = False\n",
    "    if(judge == True):\n",
    "            Qmax = Rmin\n",
    "    q = Qm(Qmax)#instantialize class Qm\n",
    "    No1 = []\n",
    "    for i in range(len(E) + 1):\n",
    "        No1.append(0)\n",
    "    expand(V, No, No1, Q, q, E)\n",
    "    print('Cardinality:', q.length())\n",
    "    print(\"Maximum clique:\",q.visit())\n"
   ]
  },
  {
   "cell_type": "code",
   "execution_count": 11,
   "id": "653c2af5",
   "metadata": {},
   "outputs": [
    {
     "name": "stdout",
     "output_type": "stream",
     "text": [
      "Cardinality: 36\n",
      "Maximum clique: [18, 176, 138, 293, 299, 20, 199, 166, 4, 33, 98, 219, 239, 298, 48, 290, 76, 139, 21, 255, 252, 174, 245, 226, 221, 205, 273, 190, 247, 19, 235, 89, 149, 56, 49, 40]\n",
      "Time for algorithm to solve(in CPU seconds): 68.4305089999998\n"
     ]
    }
   ],
   "source": [
    "# Reading .txt file, generate adjacent matrix\n",
    "adj = np.loadtxt(\"p_hat300_3.txt\", dtype = int)\n",
    "size = adj.max()\n",
    "a = np.zeros([size,size])\n",
    "for e in adj:\n",
    "    a[e[0] - 1][e[1] - 1] = 1\n",
    "    a[e[1] - 1][e[0] - 1] = 1\n",
    "    \n",
    "v = [i for i in range(1, size + 1)]\n",
    "t1 = time.perf_counter()#begin time\n",
    "MCR(v, a)  #main\n",
    "t2 = time.perf_counter()#end time\n",
    "print(\"Time for algorithm to solve(in CPU seconds):\",t2 - t1)"
   ]
  },
  {
   "cell_type": "code",
   "execution_count": null,
   "id": "b669e56e",
   "metadata": {},
   "outputs": [],
   "source": []
  },
  {
   "cell_type": "code",
   "execution_count": null,
   "id": "b1aab82e",
   "metadata": {},
   "outputs": [],
   "source": []
  },
  {
   "cell_type": "code",
   "execution_count": null,
   "id": "7a4ac154",
   "metadata": {},
   "outputs": [],
   "source": []
  }
 ],
 "metadata": {
  "kernelspec": {
   "display_name": "Python 3.9.7 64-bit",
   "language": "python",
   "name": "python397jvsc74a57bd0aee8b7b246df8f9039afb4144a1f6fd8d2ca17a180786b69acc140d282b71a49"
  },
  "language_info": {
   "codemirror_mode": {
    "name": "ipython",
    "version": 3
   },
   "file_extension": ".py",
   "mimetype": "text/x-python",
   "name": "python",
   "nbconvert_exporter": "python",
   "pygments_lexer": "ipython3",
   "version": "3.9.7"
  }
 },
 "nbformat": 4,
 "nbformat_minor": 5
}
